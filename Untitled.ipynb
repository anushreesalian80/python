{
  "cells": [
    {
      "cell_type": "markdown",
      "metadata": {
        "id": "view-in-github",
        "colab_type": "text"
      },
      "source": [
        "<a href=\"https://colab.research.google.com/github/anushreesalian80/python/blob/main/Untitled.ipynb\" target=\"_parent\"><img src=\"https://colab.research.google.com/assets/colab-badge.svg\" alt=\"Open In Colab\"/></a>"
      ]
    },
    {
      "cell_type": "code",
      "execution_count": null,
      "id": "2b9cd541",
      "metadata": {
        "id": "2b9cd541",
        "outputId": "1e9c76f9-7d9d-436a-f174-3273c57b465f"
      },
      "outputs": [
        {
          "name": "stdout",
          "output_type": "stream",
          "text": [
            "Hi, How are you?\n"
          ]
        }
      ],
      "source": [
        "print(\"Hi, How are you?\")"
      ]
    },
    {
      "cell_type": "code",
      "execution_count": null,
      "id": "b9a69dc8",
      "metadata": {
        "id": "b9a69dc8",
        "outputId": "aaa6f5ed-8052-481e-e3d8-cdd1693bb675"
      },
      "outputs": [
        {
          "name": "stdout",
          "output_type": "stream",
          "text": [
            "Sum of two Numbers is: 5\n"
          ]
        }
      ],
      "source": [
        " a=2\n",
        " b=3\n",
        "sum=a+b\n",
        "print(\"Sum of two Numbers is:\",sum)"
      ]
    },
    {
      "cell_type": "code",
      "execution_count": null,
      "id": "a6437dfd",
      "metadata": {
        "colab": {
          "base_uri": "https://localhost:8080/"
        },
        "id": "a6437dfd",
        "outputId": "c4f02b3e-df80-451b-c43e-4fb2f937dff9"
      },
      "outputs": [
        {
          "output_type": "stream",
          "name": "stdout",
          "text": [
            "Difference is: 3\n",
            "Product is: 10\n"
          ]
        }
      ],
      "source": [
        "a=5\n",
        "b=2\n",
        "dif=a-b\n",
        "product=a*b\n",
        "print(\"Difference is:\",dif)\n",
        "print(\"Product is:\",product)"
      ]
    },
    {
      "cell_type": "code",
      "execution_count": null,
      "id": "97330db0",
      "metadata": {
        "id": "97330db0"
      },
      "outputs": [],
      "source": []
    }
  ],
  "metadata": {
    "kernelspec": {
      "display_name": "Python 3 (ipykernel)",
      "language": "python",
      "name": "python3"
    },
    "language_info": {
      "codemirror_mode": {
        "name": "ipython",
        "version": 3
      },
      "file_extension": ".py",
      "mimetype": "text/x-python",
      "name": "python",
      "nbconvert_exporter": "python",
      "pygments_lexer": "ipython3",
      "version": "3.11.4"
    },
    "colab": {
      "provenance": [],
      "include_colab_link": true
    }
  },
  "nbformat": 4,
  "nbformat_minor": 5
}