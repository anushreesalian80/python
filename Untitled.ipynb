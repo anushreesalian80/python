{
 "cells": [
  {
   "cell_type": "code",
   "execution_count": 4,
   "id": "2b9cd541",
   "metadata": {},
   "outputs": [
    {
     "name": "stdout",
     "output_type": "stream",
     "text": [
      "Hi, How are you?\n"
     ]
    }
   ],
   "source": [
    "print(\"Hi, How are you?\")"
   ]
  },
  {
   "cell_type": "code",
   "execution_count": 5,
   "id": "b9a69dc8",
   "metadata": {},
   "outputs": [
    {
     "name": "stdout",
     "output_type": "stream",
     "text": [
      "Sum of two Numbers is: 5\n"
     ]
    }
   ],
   "source": [
    " a=2\n",
    " b=3\n",
    "sum=a+b\n",
    "print(\"Sum of two Numbers is:\",sum)"
   ]
  },
  {
   "cell_type": "code",
   "execution_count": 8,
   "id": "a6437dfd",
   "metadata": {},
   "outputs": [
    {
     "name": "stdout",
     "output_type": "stream",
     "text": [
      "Difference is: 3\n"
     ]
    }
   ],
   "source": [
    "a=5\n",
    "b=2\n",
    "dif=a-b\n",
    "print(\"Difference is:\",dif)"
   ]
  },
  {
   "cell_type": "code",
   "execution_count": null,
   "id": "97330db0",
   "metadata": {},
   "outputs": [],
   "source": []
  }
 ],
 "metadata": {
  "kernelspec": {
   "display_name": "Python 3 (ipykernel)",
   "language": "python",
   "name": "python3"
  },
  "language_info": {
   "codemirror_mode": {
    "name": "ipython",
    "version": 3
   },
   "file_extension": ".py",
   "mimetype": "text/x-python",
   "name": "python",
   "nbconvert_exporter": "python",
   "pygments_lexer": "ipython3",
   "version": "3.11.4"
  }
 },
 "nbformat": 4,
 "nbformat_minor": 5
}
