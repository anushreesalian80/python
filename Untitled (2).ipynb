{
 "cells": [
  {
   "cell_type": "code",
   "execution_count": 4,
   "id": "f285706a",
   "metadata": {},
   "outputs": [
    {
     "name": "stdout",
     "output_type": "stream",
     "text": [
      "Hi, How are you?\n"
     ]
    }
   ],
   "source": [
    "print(\"Hi, How are you?\")"
   ]
  },
  {
   "cell_type": "code",
   "execution_count": 5,
   "id": "b9ad95df",
   "metadata": {},
   "outputs": [
    {
     "name": "stdout",
     "output_type": "stream",
     "text": [
      "Sum of two Numbers is: 5\n"
     ]
    }
   ],
   "source": [
    " a=2\n",
    " b=3\n",
    "sum=a+b\n",
    "print(\"Sum of two Numbers is:\",sum)"
   ]
  },
  {
   "cell_type": "code",
   "execution_count": 9,
   "id": "a6174c78",
   "metadata": {},
   "outputs": [
    {
     "name": "stdout",
     "output_type": "stream",
     "text": [
      "Difference is: 3\n",
      "Product is: 10\n"
     ]
    }
   ],
   "source": [
    "a=5\n",
    "b=2\n",
    "dif=a-b\n",
    "product=a*b\n",
    "print(\"Difference is:\",dif)\n",
    "print(\"Product is:\",product)"
   ]
  },
  {
   "cell_type": "code",
   "execution_count": 12,
   "id": "63b664c5",
   "metadata": {},
   "outputs": [
    {
     "name": "stdout",
     "output_type": "stream",
     "text": [
      "Enter the value of x:5\n",
      "Enter the value of y:7\n",
      "Value of x after swapping: 7\n",
      "Value of y after swapping: 5\n"
     ]
    }
   ],
   "source": [
    "x=input(\"Enter the value of x:\" )\n",
    "y=input(\"Enter the value of y:\")\n",
    "temp=x\n",
    "x=y\n",
    "y=temp\n",
    "print(\"Value of x after swapping:\",x)\n",
    "print(\"Value of y after swapping:\",y)"
   ]
  },
  {
   "cell_type": "code",
   "execution_count": 13,
   "id": "ec39f483",
   "metadata": {},
   "outputs": [
    {
     "name": "stdout",
     "output_type": "stream",
     "text": [
      "Enter the value of x:70\n",
      "Enter the value of y:90\n",
      "x= 90\n",
      "y= 70\n"
     ]
    }
   ],
   "source": [
    "x=input(\"Enter the value of x:\" )\n",
    "y=input(\"Enter the value of y:\")\n",
    "x,y=y,x\n",
    "print(\"x=\",x)\n",
    "print(\"y=\",y)"
   ]
  },
  {
   "cell_type": "code",
   "execution_count": 18,
   "id": "03d32c54",
   "metadata": {},
   "outputs": [
    {
     "name": "stdout",
     "output_type": "stream",
     "text": [
      "Enter the value:8\n",
      "Answer is: 2.8284271247461903\n"
     ]
    }
   ],
   "source": [
    "num=float(input(\"Enter the value:\"))\n",
    "numsqrt=num ** 0.5\n",
    "print(\"Answer is:\",numsqrt)"
   ]
  },
  {
   "cell_type": "code",
   "execution_count": 28,
   "id": "691eb7f9",
   "metadata": {},
   "outputs": [
    {
     "name": "stdout",
     "output_type": "stream",
     "text": [
      "Enter a number: 44\n",
      "44 is Even\n"
     ]
    }
   ],
   "source": [
    "num = int(input(\"Enter a number: \"))\n",
    "if (num % 2) == 0:\n",
    "   print(\"{0} is Even\".format(num))\n",
    "else:\n",
    "   print(\"{0} is Odd\".format(num))"
   ]
  },
  {
   "cell_type": "code",
   "execution_count": 36,
   "id": "b6ed3e3e",
   "metadata": {},
   "outputs": [
    {
     "name": "stdout",
     "output_type": "stream",
     "text": [
      "Enter 1st number:40\n",
      "Enter 2nd number:50\n",
      "Enter 3rd number:100\n",
      "The largest number is 100.0\n"
     ]
    }
   ],
   "source": [
    "num1=float(input(\"Enter 1st number:\"))\n",
    "num2=float(input(\"Enter 2nd number:\"))\n",
    "num3=float(input(\"Enter 3rd number:\"))\n",
    "if (num1 >= num2) and (num1 >= num3):\n",
    "   largest = num1\n",
    "elif (num2 >= num1) and (num2 >= num3):\n",
    "   largest = num2\n",
    "else:\n",
    "   largest = num3\n",
    "print(\"The largest number is\", largest)"
   ]
  },
  {
   "cell_type": "code",
   "execution_count": null,
   "id": "6aa21d33",
   "metadata": {},
   "outputs": [],
   "source": []
  },
  {
   "cell_type": "code",
   "execution_count": null,
   "id": "c4d099a6",
   "metadata": {},
   "outputs": [],
   "source": []
  }
 ],
 "metadata": {
  "kernelspec": {
   "display_name": "Python 3 (ipykernel)",
   "language": "python",
   "name": "python3"
  },
  "language_info": {
   "codemirror_mode": {
    "name": "ipython",
    "version": 3
   },
   "file_extension": ".py",
   "mimetype": "text/x-python",
   "name": "python",
   "nbconvert_exporter": "python",
   "pygments_lexer": "ipython3",
   "version": "3.11.4"
  }
 },
 "nbformat": 4,
 "nbformat_minor": 5
}
